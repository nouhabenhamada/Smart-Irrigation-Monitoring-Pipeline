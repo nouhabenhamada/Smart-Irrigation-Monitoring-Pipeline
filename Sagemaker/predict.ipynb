{
 "cells": [
  {
   "cell_type": "code",
   "execution_count": 1,
   "id": "2e168e73-2de1-47ac-9e2f-79e0899684a4",
   "metadata": {
    "tags": []
   },
   "outputs": [
    {
     "name": "stdout",
     "output_type": "stream",
     "text": [
      "Collecting xgboost\n",
      "  Downloading xgboost-2.1.3-py3-none-manylinux2014_x86_64.whl.metadata (2.0 kB)\n",
      "Requirement already satisfied: numpy in /home/ec2-user/anaconda3/envs/tensorflow2_p310/lib/python3.10/site-packages (from xgboost) (1.26.4)\n",
      "Requirement already satisfied: scipy in /home/ec2-user/anaconda3/envs/tensorflow2_p310/lib/python3.10/site-packages (from xgboost) (1.14.1)\n",
      "Downloading xgboost-2.1.3-py3-none-manylinux2014_x86_64.whl (4.5 MB)\n",
      "\u001b[2K   \u001b[90m━━━━━━━━━━━━━━━━━━━━━━━━━━━━━━━━━━━━━━━━\u001b[0m \u001b[32m4.5/4.5 MB\u001b[0m \u001b[31m64.7 MB/s\u001b[0m eta \u001b[36m0:00:00\u001b[0m\n",
      "\u001b[?25hInstalling collected packages: xgboost\n",
      "Successfully installed xgboost-2.1.3\n"
     ]
    }
   ],
   "source": [
    "!pip install xgboost"
   ]
  },
  {
   "cell_type": "code",
   "execution_count": 2,
   "id": "2cc83608-a585-4f28-aab6-ac00dfbf2f25",
   "metadata": {
    "tags": []
   },
   "outputs": [
    {
     "name": "stderr",
     "output_type": "stream",
     "text": [
      "/home/ec2-user/anaconda3/envs/tensorflow2_p310/lib/python3.10/site-packages/xgboost/core.py:265: FutureWarning: Your system has an old version of glibc (< 2.28). We will stop supporting Linux distros with glibc older than 2.28 after **May 31, 2025**. Please upgrade to a recent Linux distro (with glibc 2.28+) to use future versions of XGBoost.\n",
      "Note: You have installed the 'manylinux2014' variant of XGBoost. Certain features such as GPU algorithms or federated learning are not available. To use these features, please upgrade to a recent Linux distro with glibc 2.28+, and install the 'manylinux_2_28' variant.\n",
      "  warnings.warn(\n"
     ]
    }
   ],
   "source": [
    "import pandas as pd\n",
    "import xgboost as xgb\n",
    "from sklearn.model_selection import train_test_split\n",
    "from sklearn.metrics import accuracy_score, classification_report\n",
    "from joblib import dump\n",
    "\n"
   ]
  },
  {
   "cell_type": "code",
   "execution_count": 8,
   "id": "f4234bab-7c26-4d01-ad78-81b510861d82",
   "metadata": {
    "tags": []
   },
   "outputs": [
    {
     "name": "stdout",
     "output_type": "stream",
     "text": [
      "Training data :\n",
      "   Soil Moisture  Temperature  Soil Humidity  Status\n",
      "0             25           36           64.0       0\n",
      "1              5           20           35.0       0\n",
      "2             27           41           70.0       0\n",
      "3             90           20           35.0       1\n",
      "4             81           41           26.0       0\n",
      "Test data :\n",
      "   Soil Moisture  Temperature  Soil Humidity  Status\n",
      "0             58           30           60.0       1\n",
      "1             46           25           63.0       1\n",
      "2             54           24           34.0       1\n",
      "3             41           33           41.0       0\n",
      "4             43            6           54.0       1\n"
     ]
    }
   ],
   "source": [
    "train_df = pd.read_csv('train.csv')\n",
    "test_df = pd.read_csv('test.csv')\n",
    "\n",
    "print(\"Training data :\")\n",
    "print(train_df.head())\n",
    "\n",
    "print(\"Test data :\")\n",
    "print(test_df.head())\n"
   ]
  },
  {
   "cell_type": "code",
   "execution_count": 4,
   "id": "8a94f978-9584-4471-a17e-60510447e156",
   "metadata": {
    "tags": []
   },
   "outputs": [],
   "source": [
    "X_train = train_df.drop(columns=['Status'])  \n",
    "y_train = train_df['Status']  \n",
    "\n",
    "X_test = test_df.drop(columns=['Status'])\n",
    "y_test = test_df['Status']\n",
    "\n",
    "dtrain = xgb.DMatrix(X_train, label=y_train)\n",
    "dtest = xgb.DMatrix(X_test, label=y_test)\n",
    "\n",
    "params = {\n",
    "    'objective': 'binary:logistic',  \n",
    "    'eval_metric': 'logloss',  \n",
    "    'eta': 0.1,  \n",
    "    'max_depth': 6,  \n",
    "    'subsample': 0.8, \n",
    "    'colsample_bytree': 0.8,  \n",
    "}\n",
    "\n",
    "num_round = 100  \n",
    "model = xgb.train(params, dtrain, num_round)"
   ]
  },
  {
   "cell_type": "code",
   "execution_count": 5,
   "id": "499aec4d-c849-45a6-962a-0647016cf9f4",
   "metadata": {
    "tags": []
   },
   "outputs": [],
   "source": [
    "y_pred_prob = model.predict(dtest)\n",
    "y_pred = (y_pred_prob > 0.5).astype(int)\n",
    "\n"
   ]
  },
  {
   "cell_type": "code",
   "execution_count": 6,
   "id": "0520da4a-92ee-418e-8a15-f8baaf8d1985",
   "metadata": {
    "tags": []
   },
   "outputs": [
    {
     "name": "stdout",
     "output_type": "stream",
     "text": [
      "Classification Report:\n",
      "              precision    recall  f1-score   support\n",
      "\n",
      "           0       0.75      0.79      0.77     28769\n",
      "           1       0.74      0.70      0.72     24885\n",
      "\n",
      "    accuracy                           0.75     53654\n",
      "   macro avg       0.74      0.74      0.74     53654\n",
      "weighted avg       0.75      0.75      0.74     53654\n",
      "\n"
     ]
    }
   ],
   "source": [
    "print(\"Classification Report:\")\n",
    "print(classification_report(y_test, y_pred))"
   ]
  },
  {
   "cell_type": "code",
   "execution_count": 8,
   "id": "37745969-35cd-4974-bce0-f7c461b85b05",
   "metadata": {
    "tags": []
   },
   "outputs": [
    {
     "name": "stdout",
     "output_type": "stream",
     "text": [
      "Modèle XGBoost entraîné et sauvegardé sous 'xgboost_model.joblib'.\n"
     ]
    }
   ],
   "source": [
    "dump(model, 'xgboost_model.joblib')\n",
    "\n",
    "print(\"Model trained and saved 'xgboost_model.joblib'.\")\n"
   ]
  },
  {
   "cell_type": "code",
   "execution_count": 7,
   "id": "b84d32c5-701f-4416-abc6-88fb7f7ad81a",
   "metadata": {
    "tags": []
   },
   "outputs": [
    {
     "name": "stdout",
     "output_type": "stream",
     "text": [
      "Model saved successfuly in S3 bucket : projectkafkabucket/models/xgboost_model.joblib\n"
     ]
    }
   ],
   "source": [
    "import boto3\n",
    "from joblib import dump\n",
    "\n",
    "s3 = boto3.client('s3')\n",
    "\n",
    "bucket_name = 'projectkafkabucket'  \n",
    "model_key = 'models/xgboost_model.joblib'  \n",
    "\n",
    "s3.upload_file('xgboost_model.joblib', bucket_name, model_key)\n",
    "\n",
    "print(f\"Model saved successfuly in S3 bucket : {bucket_name}/{model_key}\")\n"
   ]
  },
  {
   "cell_type": "code",
   "execution_count": null,
   "id": "59c0617e-037a-4711-a696-ae0814c57b4c",
   "metadata": {},
   "outputs": [],
   "source": []
  }
 ],
 "metadata": {
  "kernelspec": {
   "display_name": "conda_tensorflow2_p310",
   "language": "python",
   "name": "conda_tensorflow2_p310"
  },
  "language_info": {
   "codemirror_mode": {
    "name": "ipython",
    "version": 3
   },
   "file_extension": ".py",
   "mimetype": "text/x-python",
   "name": "python",
   "nbconvert_exporter": "python",
   "pygments_lexer": "ipython3",
   "version": "3.10.15"
  }
 },
 "nbformat": 4,
 "nbformat_minor": 5
}
