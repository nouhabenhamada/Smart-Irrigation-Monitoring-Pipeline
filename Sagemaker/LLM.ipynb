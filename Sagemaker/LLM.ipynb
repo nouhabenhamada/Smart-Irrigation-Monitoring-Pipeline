{
 "cells": [
  {
   "cell_type": "code",
   "execution_count": null,
   "id": "a08273a4-eeca-480b-a65d-ce490b16c6db",
   "metadata": {},
   "outputs": [],
   "source": [
    "!pip install openai langchain"
   ]
  },
  {
   "cell_type": "code",
   "execution_count": null,
   "id": "d89fce57-c7cf-4e67-a721-541de3f5c0dc",
   "metadata": {},
   "outputs": [],
   "source": [
    "import boto3\n",
    "import os\n",
    "import json\n",
    "import pandas as pd\n",
    "from openai import AzureOpenAI\n",
    "\n",
    "# Initialize Azure OpenAI client\n",
    "client = AzureOpenAI(\n",
    "    api_key=\"My_api_key\",\n",
    "    api_version=\"2023-03-15-preview\",\n",
    "    azure_endpoint=\"https://tuteureopenai.openai.azure.com\"\n",
    ")\n",
    "\n",
    "# Get interpretation from LLM\n",
    "def get_interpretation(prediction_value):\n",
    "    if prediction_value <= 0:\n",
    "        situation = \"optimal soil moisture\"\n",
    "    elif 0 < prediction_value <= 0.2:\n",
    "        situation = \"slightly dry soil\"\n",
    "    elif 0.2 < prediction_value < 0.8:\n",
    "        situation = \"moderately dry soil\"\n",
    "    else:\n",
    "        situation = \"very dry soil\"\n",
    "    \n",
    "    try:\n",
    "        response = client.chat.completions.create(\n",
    "            model=\"gpt-35-turbo\",\n",
    "            messages=[\n",
    "                {\"role\": \"system\", \"content\": \"You are an irrigation advisor. Give very brief recommendations in 5-7 words.\"},\n",
    "                {\"role\": \"user\", \"content\": f\"Given {situation} with a moisture prediction value of {prediction_value}, provide a very brief irrigation recommendation.\"}\n",
    "            ]\n",
    "        )\n",
    "        return response.choices[0].message.content.strip()\n",
    "    except Exception as e:\n",
    "        print(f\"Error getting LLM interpretation: {e}\")\n",
    "        return get_fallback_interpretation(prediction_value)\n",
    "\n",
    "\n",
    "# Send batch data to S3\n",
    "def send_to_s3_csv(batch_data):\n",
    "    timestamp = datetime.now().strftime('%Y%m%d_%H%M%S')\n",
    "    s3_key = f\"sensor_data_2/sensor_data_{timestamp}.csv\"\n",
    "\n",
    "    df = pd.DataFrame(batch_data)\n",
    "    csv_data = df.to_csv(index=False)\n",
    "\n",
    "    s3_client = boto3.client('s3', region_name='us-east-1')\n",
    "    bucket_name = 'projectkafkabucket'\n",
    "\n",
    "    try:\n",
    "        s3_client.put_object(\n",
    "            Bucket=bucket_name,\n",
    "            Key=s3_key,\n",
    "            Body=csv_data.encode('utf-8'),\n",
    "            ContentType='text/csv'\n",
    "        )\n",
    "        print(f\"Successfully uploaded to S3 as CSV: {s3_key}\")\n",
    "    except Exception as e:\n",
    "        print(f\"Error uploading CSV to S3: {e}\")\n"
   ]
  }
 ],
 "metadata": {
  "kernelspec": {
   "display_name": "conda_tensorflow2_p310",
   "language": "python",
   "name": "conda_tensorflow2_p310"
  },
  "language_info": {
   "codemirror_mode": {
    "name": "ipython",
    "version": 3
   },
   "file_extension": ".py",
   "mimetype": "text/x-python",
   "name": "python",
   "nbconvert_exporter": "python",
   "pygments_lexer": "ipython3",
   "version": "3.10.15"
  }
 },
 "nbformat": 4,
 "nbformat_minor": 5
}
